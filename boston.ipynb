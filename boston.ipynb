{
 "cells": [
  {
   "cell_type": "code",
   "execution_count": 1,
   "id": "3611dbb2",
   "metadata": {},
   "outputs": [],
   "source": [
    "import os\n",
    "import requests\n",
    "import json\n",
    "from dotenv import load_dotenv\n",
    "import geopandas as gpd\n",
    "from cartoframes.viz import Map, Layer, popup_element\n",
    "import folium\n",
    "from folium import Choropleth, Circle, Marker, Icon, Map\n",
    "from folium.plugins import HeatMap, MarkerCluster\n",
    "import pandas as pd\n"
   ]
  },
  {
   "cell_type": "code",
   "execution_count": 2,
   "id": "6a007b79",
   "metadata": {},
   "outputs": [],
   "source": [
    "#Location"
   ]
  },
  {
   "cell_type": "code",
   "execution_count": 3,
   "id": "4116e32e",
   "metadata": {},
   "outputs": [],
   "source": [
    "where= \"Boston,USA\""
   ]
  },
  {
   "cell_type": "code",
   "execution_count": 4,
   "id": "5e198e4b",
   "metadata": {},
   "outputs": [],
   "source": [
    "# Expected coordinates"
   ]
  },
  {
   "cell_type": "code",
   "execution_count": 5,
   "id": "c41b2e77",
   "metadata": {},
   "outputs": [],
   "source": [
    "boston_longt=200,0.90,42.33106\n",
    "boston_latt=-71.09020"
   ]
  },
  {
   "cell_type": "code",
   "execution_count": 6,
   "id": "91d1c154",
   "metadata": {},
   "outputs": [
    {
     "data": {
      "text/plain": [
       "{'standard': {'addresst': {},\n",
       "  'statename': {},\n",
       "  'city': 'Boston',\n",
       "  'prov': 'US',\n",
       "  'countryname': 'United States of America',\n",
       "  'postal': {},\n",
       "  'confidence': '0.90'},\n",
       " 'longt': '-71.09020',\n",
       " 'alt': {},\n",
       " 'elevation': {},\n",
       " 'latt': '42.33106'}"
      ]
     },
     "execution_count": 6,
     "metadata": {},
     "output_type": "execute_result"
    }
   ],
   "source": [
    "url_geocode = f\"https://geocode.xyz/{where}?json=1\"\n",
    "res = requests.get(url_geocode).json()\n",
    "res"
   ]
  },
  {
   "cell_type": "code",
   "execution_count": 7,
   "id": "2d8986e2",
   "metadata": {},
   "outputs": [
    {
     "name": "stdout",
     "output_type": "stream",
     "text": [
      "-71.09020 42.33106\n"
     ]
    }
   ],
   "source": [
    "boston_longt, boston_latt= res[\"longt\"], res[\"latt\"]\n",
    "print(boston_longt,boston_latt)"
   ]
  },
  {
   "cell_type": "code",
   "execution_count": 8,
   "id": "626c424f",
   "metadata": {},
   "outputs": [],
   "source": [
    "def get_all(output_get_query):\n",
    "    \n",
    "    \"Get name, address, and geopoints from each city\"\n",
    "\n",
    "    new_list= []\n",
    "    for i in output_get_query[\"results\"]:\n",
    "        name = i[\"name\"]\n",
    "        address =  i[\"location\"][\"formatted_address\"]\n",
    "        latt = i[\"geocodes\"][\"main\"][\"latitude\"]\n",
    "        longt = i[\"geocodes\"][\"main\"][\"longitude\"]\n",
    "        category= i[\"categories\"][0][\"name\"]\n",
    "        type_ = {\"typepoint\":\n",
    "                                {\"type\": \"Point\",\n",
    "                                \"coordinates\": [latt, longt]}}\n",
    "        new_list.append({\"name\":name, \"latt\":lat, \"longt\":lon, \"category\": category, \"type\":type_})\n",
    "    df = pd.DataFrame(new_list)\n",
    "    return df"
   ]
  },
  {
   "cell_type": "code",
   "execution_count": 9,
   "id": "df68d19a",
   "metadata": {},
   "outputs": [],
   "source": [
    "def get_coordinates (place):\n",
    "    url_geocode = f\"https://geocode.xyz/{where}?json=1\"\n",
    "\n",
    "    try:\n",
    "        res = requests.get(url_geocode).json()\n",
    "        return res[\"longt\"], res[\"latt\"]\n",
    "    except:\n",
    "        print(f\"Sorry, no matches found for {place}\")\n",
    "        get_coordinates (place)"
   ]
  },
  {
   "cell_type": "code",
   "execution_count": 10,
   "id": "48660985",
   "metadata": {},
   "outputs": [
    {
     "data": {
      "text/plain": [
       "('-71.09020', '42.33106')"
      ]
     },
     "execution_count": 10,
     "metadata": {},
     "output_type": "execute_result"
    }
   ],
   "source": [
    "boston = get_coordinates (\"Boston,USA\")\n",
    "boston"
   ]
  },
  {
   "cell_type": "code",
   "execution_count": 11,
   "id": "b251eab3",
   "metadata": {},
   "outputs": [],
   "source": [
    "boston_= {'type': 'Point', 'coordinates': ['', '']}"
   ]
  },
  {
   "cell_type": "code",
   "execution_count": 12,
   "id": "50976ad3",
   "metadata": {},
   "outputs": [],
   "source": [
    "#TOKEN"
   ]
  },
  {
   "cell_type": "code",
   "execution_count": 13,
   "id": "5f2e527e",
   "metadata": {},
   "outputs": [],
   "source": [
    "load_dotenv()\n",
    "client_id = os.getenv(\"CLIENT_ID\")\n",
    "client_secret = os.getenv(\"CLIENT_SECRET\")\n"
   ]
  },
  {
   "cell_type": "code",
   "execution_count": 14,
   "id": "e11fad5c",
   "metadata": {},
   "outputs": [
    {
     "data": {
      "text/plain": [
       "True"
      ]
     },
     "execution_count": 14,
     "metadata": {},
     "output_type": "execute_result"
    }
   ],
   "source": [
    "# Connect w/ Foursquare API\n",
    "load_dotenv()"
   ]
  },
  {
   "cell_type": "code",
   "execution_count": 15,
   "id": "36f5e3b1",
   "metadata": {},
   "outputs": [],
   "source": [
    "token_fsq = os.getenv(\"token\")"
   ]
  },
  {
   "cell_type": "code",
   "execution_count": 16,
   "id": "e2b147fa",
   "metadata": {},
   "outputs": [],
   "source": [
    "query = \"starbucks\""
   ]
  },
  {
   "cell_type": "code",
   "execution_count": 20,
   "id": "da61b7cf",
   "metadata": {},
   "outputs": [],
   "source": [
    "url = f\"https://api.foursquare.com/v3/places/search?query={query}&limit=1\"\n",
    "\n",
    "headers = {\n",
    "    \"accept\": \"application/json\",\n",
    "    \"Authorization\": token_fsq\n",
    "}\n",
    "\n",
    "response = requests.get(url, headers=headers).json()\n",
    "   \n"
   ]
  },
  {
   "cell_type": "code",
   "execution_count": 21,
   "id": "f13ec8e3",
   "metadata": {},
   "outputs": [
    {
     "data": {
      "text/plain": [
       "{'results': [{'fsq_id': '4b7e7cdaf964a5202cef2fe3',\n",
       "   'categories': [{'id': 13035,\n",
       "     'name': 'Coffee Shop',\n",
       "     'icon': {'prefix': 'https://ss3.4sqi.net/img/categories_v2/food/coffeeshop_',\n",
       "      'suffix': '.png'}}],\n",
       "   'chains': [{'id': 'ab4c54c0-d68a-012e-5619-003048cad9da',\n",
       "     'name': 'Starbucks'}],\n",
       "   'distance': 510,\n",
       "   'geocodes': {'main': {'latitude': 41.385204, 'longitude': 2.163273},\n",
       "    'roof': {'latitude': 41.385204, 'longitude': 2.163273}},\n",
       "   'link': '/v3/places/4b7e7cdaf964a5202cef2fe3',\n",
       "   'location': {'address': 'Plaça Universitat, 2',\n",
       "    'admin_region': 'Cataluña',\n",
       "    'country': 'ES',\n",
       "    'cross_street': 'C. Aribau',\n",
       "    'formatted_address': 'Plaça Universitat, 2 (C. Aribau), 08007 Barcelona Catalonia',\n",
       "    'locality': 'Barcelona',\n",
       "    'neighborhood': ['Sant Antoni'],\n",
       "    'postcode': '08007',\n",
       "    'region': 'Catalonia'},\n",
       "   'name': 'Starbucks',\n",
       "   'related_places': {},\n",
       "   'timezone': 'Europe/Madrid'}],\n",
       " 'context': {'geo_bounds': {'circle': {'center': {'latitude': 41.3887939453125,\n",
       "     'longitude': 2.15899658203125},\n",
       "    'radius': 22000}}}}"
      ]
     },
     "execution_count": 21,
     "metadata": {},
     "output_type": "execute_result"
    }
   ],
   "source": [
    "response"
   ]
  },
  {
   "cell_type": "code",
   "execution_count": 22,
   "id": "da99c61b",
   "metadata": {},
   "outputs": [
    {
     "data": {
      "text/plain": [
       "dict_keys(['results', 'context'])"
      ]
     },
     "execution_count": 22,
     "metadata": {},
     "output_type": "execute_result"
    }
   ],
   "source": [
    "response.keys()"
   ]
  },
  {
   "cell_type": "code",
   "execution_count": 24,
   "id": "9efb3382",
   "metadata": {},
   "outputs": [],
   "source": [
    "# Trying a second time the website\n",
    "\n",
    "\n",
    "\n",
    "query = \"starbucks\"\n",
    "url = f\"https://api.foursquare.com/v3/places/search?query={query}&ll=40.416775%2C-3.703790\"\n",
    "\n",
    "headers = {\n",
    "    \"accept\": \"application/json\",\n",
    "    \"Authorization\": token_fsq,\n",
    "    \"limit\":\"1\"\n",
    "}\n",
    "\n",
    "response_2 = requests.get(url, headers=headers).json()\n",
    "\n",
    "#response_2"
   ]
  },
  {
   "cell_type": "code",
   "execution_count": 25,
   "id": "2a429fb0",
   "metadata": {},
   "outputs": [
    {
     "data": {
      "text/plain": [
       "'Comunidad de Madrid'"
      ]
     },
     "execution_count": 25,
     "metadata": {},
     "output_type": "execute_result"
    }
   ],
   "source": [
    "# Check the region by accessing elements in the dictionary/list\n",
    "response_2[\"results\"][0][\"location\"][\"admin_region\"] "
   ]
  },
  {
   "cell_type": "code",
   "execution_count": 26,
   "id": "e35002c1",
   "metadata": {},
   "outputs": [],
   "source": [
    "# If it works -> Into a function\n",
    "\n",
    "def get_results_from_foursquare (query, location, limit=1):\n",
    "    \n",
    "    # Doing the call for foursquare     \n",
    "    ll = f\"{location[1]}%2C{location[0]}\"\n",
    "    url = f\"https://api.foursquare.com/v3/places/search?query={query}&ll={ll}&limit={str(limit)}\"\n",
    "\n",
    "    headers = {\n",
    "        \"accept\": \"application/json\",\n",
    "        \"Authorization\": token_fsq,\n",
    "    }\n",
    "    \n",
    "    response = requests.get(url, headers=headers).json()\n",
    "    \n",
    "    return response"
   ]
  },
  {
   "cell_type": "code",
   "execution_count": 27,
   "id": "d8e19ac8",
   "metadata": {},
   "outputs": [
    {
     "data": {
      "text/plain": [
       "{'results': [{'fsq_id': '42829c80f964a5205d221fe3',\n",
       "   'categories': [{'id': 13035,\n",
       "     'name': 'Coffee Shop',\n",
       "     'icon': {'prefix': 'https://ss3.4sqi.net/img/categories_v2/food/coffeeshop_',\n",
       "      'suffix': '.png'}}],\n",
       "   'chains': [{'id': 'ab4c54c0-d68a-012e-5619-003048cad9da',\n",
       "     'name': 'Starbucks'}],\n",
       "   'distance': 1800,\n",
       "   'geocodes': {'main': {'latitude': 42.342573, 'longitude': -71.074601}},\n",
       "   'link': '/v3/places/42829c80f964a5205d221fe3',\n",
       "   'location': {'address': '627 Tremont St',\n",
       "    'address_extended': 'Ste 1',\n",
       "    'census_block': '250250706001007',\n",
       "    'country': 'US',\n",
       "    'cross_street': 'at W Canton St',\n",
       "    'dma': 'Boston',\n",
       "    'formatted_address': '627 Tremont St (at W Canton St), Boston, MA 02118',\n",
       "    'locality': 'Boston',\n",
       "    'neighborhood': ['South End'],\n",
       "    'postcode': '02118',\n",
       "    'region': 'MA'},\n",
       "   'name': 'Starbucks',\n",
       "   'related_places': {},\n",
       "   'timezone': 'America/New_York'}],\n",
       " 'context': {'geo_bounds': {'circle': {'center': {'latitude': 42.33106,\n",
       "     'longitude': -71.0902},\n",
       "    'radius': 22000}}}}"
      ]
     },
     "execution_count": 27,
     "metadata": {},
     "output_type": "execute_result"
    }
   ],
   "source": [
    "# Calling the function\n",
    "get_results_from_foursquare (\"starbucks\", boston)"
   ]
  },
  {
   "cell_type": "code",
   "execution_count": 29,
   "id": "0cf59383",
   "metadata": {},
   "outputs": [],
   "source": [
    "response_function = get_results_from_foursquare (\"starbucks\", boston)\n",
    "#response_function"
   ]
  },
  {
   "cell_type": "code",
   "execution_count": 30,
   "id": "5dcff09c",
   "metadata": {},
   "outputs": [
    {
     "data": {
      "text/plain": [
       "{'fsq_id': '42829c80f964a5205d221fe3',\n",
       " 'categories': [{'id': 13035,\n",
       "   'name': 'Coffee Shop',\n",
       "   'icon': {'prefix': 'https://ss3.4sqi.net/img/categories_v2/food/coffeeshop_',\n",
       "    'suffix': '.png'}}],\n",
       " 'chains': [{'id': 'ab4c54c0-d68a-012e-5619-003048cad9da',\n",
       "   'name': 'Starbucks'}],\n",
       " 'distance': 1800,\n",
       " 'geocodes': {'main': {'latitude': 42.342573, 'longitude': -71.074601}},\n",
       " 'link': '/v3/places/42829c80f964a5205d221fe3',\n",
       " 'location': {'address': '627 Tremont St',\n",
       "  'address_extended': 'Ste 1',\n",
       "  'census_block': '250250706001007',\n",
       "  'country': 'US',\n",
       "  'cross_street': 'at W Canton St',\n",
       "  'dma': 'Boston',\n",
       "  'formatted_address': '627 Tremont St (at W Canton St), Boston, MA 02118',\n",
       "  'locality': 'Boston',\n",
       "  'neighborhood': ['South End'],\n",
       "  'postcode': '02118',\n",
       "  'region': 'MA'},\n",
       " 'name': 'Starbucks',\n",
       " 'related_places': {},\n",
       " 'timezone': 'America/New_York'}"
      ]
     },
     "execution_count": 30,
     "metadata": {},
     "output_type": "execute_result"
    }
   ],
   "source": [
    "response_function[\"results\"][0]"
   ]
  },
  {
   "cell_type": "code",
   "execution_count": 38,
   "id": "624d4df0",
   "metadata": {},
   "outputs": [],
   "source": [
    "# Do the same thing: limit=50\n",
    "\n",
    "all_starbucks_boston = get_results_from_foursquare (\"starbucks\",boston, limit=50)"
   ]
  },
  {
   "cell_type": "code",
   "execution_count": 39,
   "id": "c8d8925d",
   "metadata": {},
   "outputs": [
    {
     "data": {
      "text/plain": [
       "50"
      ]
     },
     "execution_count": 39,
     "metadata": {},
     "output_type": "execute_result"
    }
   ],
   "source": [
    "len(all_starbucks_boston[\"results\"])\n"
   ]
  },
  {
   "cell_type": "code",
   "execution_count": 34,
   "id": "0dcfa118",
   "metadata": {},
   "outputs": [],
   "source": [
    "latitude = response_function[\"results\"][0][\"geocodes\"][\"main\"][\"latitude\"]\n",
    "longitude = response_function[\"results\"][0][\"geocodes\"][\"main\"][\"longitude\"]\n",
    "address = response_function[\"results\"][0][\"location\"][\"address\"]\n",
    "name = response_function[\"results\"][0][\"name\"]"
   ]
  },
  {
   "cell_type": "code",
   "execution_count": 40,
   "id": "92ba0fef",
   "metadata": {},
   "outputs": [
    {
     "data": {
      "text/plain": [
       "[{'name': 'Starbucks',\n",
       "  'lat': 42.342573,\n",
       "  'lon': -71.074601,\n",
       "  'type': {'typepoint': {'type': 'Point',\n",
       "    'coordinates': [42.342573, -71.074601]}}}]"
      ]
     },
     "execution_count": 40,
     "metadata": {},
     "output_type": "execute_result"
    }
   ],
   "source": [
    "# Now I know how to extract from the extracted info\n",
    "\n",
    "new_list = []\n",
    "for i in all_starbucks_boston[\"results\"]:\n",
    "    \n",
    "    name = i[\"name\"]\n",
    "    address =  i[\"location\"][\"formatted_address\"]\n",
    "    lat = i[\"geocodes\"][\"main\"][\"latitude\"]\n",
    "    lon = i[\"geocodes\"][\"main\"][\"longitude\"]\n",
    "        \n",
    "    type_ = {\"typepoint\": \n",
    "                          {\"type\": \"Point\", \n",
    "                           \"coordinates\": [lat, lon]}}\n",
    "    \n",
    "    new_list.append({\"name\":name, \"lat\":lat, \"lon\":lon, \"type\":type_})\n",
    "    \n",
    "new_list[:1]"
   ]
  },
  {
   "cell_type": "code",
   "execution_count": 41,
   "id": "157ca3a3",
   "metadata": {},
   "outputs": [
    {
     "data": {
      "text/plain": [
       "[{'name': 'Starbucks',\n",
       "  'lat': 42.342573,\n",
       "  'lon': -71.074601,\n",
       "  'type': {'typepoint': {'type': 'Point',\n",
       "    'coordinates': [42.342573, -71.074601]}}},\n",
       " {'name': 'Starbucks',\n",
       "  'lat': 42.343527,\n",
       "  'lon': -71.100164,\n",
       "  'type': {'typepoint': {'type': 'Point',\n",
       "    'coordinates': [42.343527, -71.100164]}}}]"
      ]
     },
     "execution_count": 41,
     "metadata": {},
     "output_type": "execute_result"
    }
   ],
   "source": [
    "# All the info is here\n",
    "new_list[:2]"
   ]
  },
  {
   "cell_type": "code",
   "execution_count": 42,
   "id": "df68a92c",
   "metadata": {},
   "outputs": [],
   "source": [
    "# I save it into a DF\n",
    "df = pd.DataFrame(new_list)"
   ]
  },
  {
   "cell_type": "code",
   "execution_count": 43,
   "id": "e785386a",
   "metadata": {},
   "outputs": [
    {
     "data": {
      "text/html": [
       "<div>\n",
       "<style scoped>\n",
       "    .dataframe tbody tr th:only-of-type {\n",
       "        vertical-align: middle;\n",
       "    }\n",
       "\n",
       "    .dataframe tbody tr th {\n",
       "        vertical-align: top;\n",
       "    }\n",
       "\n",
       "    .dataframe thead th {\n",
       "        text-align: right;\n",
       "    }\n",
       "</style>\n",
       "<table border=\"1\" class=\"dataframe\">\n",
       "  <thead>\n",
       "    <tr style=\"text-align: right;\">\n",
       "      <th></th>\n",
       "      <th>name</th>\n",
       "      <th>lat</th>\n",
       "      <th>lon</th>\n",
       "      <th>type</th>\n",
       "    </tr>\n",
       "  </thead>\n",
       "  <tbody>\n",
       "    <tr>\n",
       "      <th>11</th>\n",
       "      <td>Starbucks</td>\n",
       "      <td>42.350925</td>\n",
       "      <td>-71.108782</td>\n",
       "      <td>{'typepoint': {'type': 'Point', 'coordinates':...</td>\n",
       "    </tr>\n",
       "  </tbody>\n",
       "</table>\n",
       "</div>"
      ],
      "text/plain": [
       "         name        lat        lon  \\\n",
       "11  Starbucks  42.350925 -71.108782   \n",
       "\n",
       "                                                 type  \n",
       "11  {'typepoint': {'type': 'Point', 'coordinates':...  "
      ]
     },
     "execution_count": 43,
     "metadata": {},
     "output_type": "execute_result"
    }
   ],
   "source": [
    "df.sample()"
   ]
  },
  {
   "cell_type": "code",
   "execution_count": 44,
   "id": "85c414ba",
   "metadata": {},
   "outputs": [
    {
     "data": {
      "text/html": [
       "<div>\n",
       "<style scoped>\n",
       "    .dataframe tbody tr th:only-of-type {\n",
       "        vertical-align: middle;\n",
       "    }\n",
       "\n",
       "    .dataframe tbody tr th {\n",
       "        vertical-align: top;\n",
       "    }\n",
       "\n",
       "    .dataframe thead th {\n",
       "        text-align: right;\n",
       "    }\n",
       "</style>\n",
       "<table border=\"1\" class=\"dataframe\">\n",
       "  <thead>\n",
       "    <tr style=\"text-align: right;\">\n",
       "      <th></th>\n",
       "      <th>name</th>\n",
       "      <th>lat</th>\n",
       "      <th>lon</th>\n",
       "      <th>type</th>\n",
       "    </tr>\n",
       "  </thead>\n",
       "  <tbody>\n",
       "    <tr>\n",
       "      <th>0</th>\n",
       "      <td>Starbucks</td>\n",
       "      <td>42.342573</td>\n",
       "      <td>-71.074601</td>\n",
       "      <td>{'typepoint': {'type': 'Point', 'coordinates':...</td>\n",
       "    </tr>\n",
       "    <tr>\n",
       "      <th>1</th>\n",
       "      <td>Starbucks</td>\n",
       "      <td>42.343527</td>\n",
       "      <td>-71.100164</td>\n",
       "      <td>{'typepoint': {'type': 'Point', 'coordinates':...</td>\n",
       "    </tr>\n",
       "    <tr>\n",
       "      <th>2</th>\n",
       "      <td>Starbucks</td>\n",
       "      <td>42.349304</td>\n",
       "      <td>-71.080887</td>\n",
       "      <td>{'typepoint': {'type': 'Point', 'coordinates':...</td>\n",
       "    </tr>\n",
       "    <tr>\n",
       "      <th>3</th>\n",
       "      <td>Starbucks</td>\n",
       "      <td>42.348202</td>\n",
       "      <td>-71.087129</td>\n",
       "      <td>{'typepoint': {'type': 'Point', 'coordinates':...</td>\n",
       "    </tr>\n",
       "    <tr>\n",
       "      <th>4</th>\n",
       "      <td>Starbucks</td>\n",
       "      <td>42.325454</td>\n",
       "      <td>-71.063022</td>\n",
       "      <td>{'typepoint': {'type': 'Point', 'coordinates':...</td>\n",
       "    </tr>\n",
       "  </tbody>\n",
       "</table>\n",
       "</div>"
      ],
      "text/plain": [
       "        name        lat        lon  \\\n",
       "0  Starbucks  42.342573 -71.074601   \n",
       "1  Starbucks  42.343527 -71.100164   \n",
       "2  Starbucks  42.349304 -71.080887   \n",
       "3  Starbucks  42.348202 -71.087129   \n",
       "4  Starbucks  42.325454 -71.063022   \n",
       "\n",
       "                                                type  \n",
       "0  {'typepoint': {'type': 'Point', 'coordinates':...  \n",
       "1  {'typepoint': {'type': 'Point', 'coordinates':...  \n",
       "2  {'typepoint': {'type': 'Point', 'coordinates':...  \n",
       "3  {'typepoint': {'type': 'Point', 'coordinates':...  \n",
       "4  {'typepoint': {'type': 'Point', 'coordinates':...  "
      ]
     },
     "execution_count": 44,
     "metadata": {},
     "output_type": "execute_result"
    }
   ],
   "source": [
    "df.head()"
   ]
  },
  {
   "cell_type": "code",
   "execution_count": 45,
   "id": "cac4d90a",
   "metadata": {},
   "outputs": [
    {
     "name": "stderr",
     "output_type": "stream",
     "text": [
      "/Users/queraltiglesias/opt/anaconda3/envs/ironhack/lib/python3.10/site-packages/geopandas/array.py:275: ShapelyDeprecationWarning: The array interface is deprecated and will no longer work in Shapely 2.0. Convert the '.coords' to a numpy array instead.\n",
      "  return GeometryArray(vectorized.points_from_xy(x, y, z), crs=crs)\n"
     ]
    },
    {
     "data": {
      "text/html": [
       "<div>\n",
       "<style scoped>\n",
       "    .dataframe tbody tr th:only-of-type {\n",
       "        vertical-align: middle;\n",
       "    }\n",
       "\n",
       "    .dataframe tbody tr th {\n",
       "        vertical-align: top;\n",
       "    }\n",
       "\n",
       "    .dataframe thead th {\n",
       "        text-align: right;\n",
       "    }\n",
       "</style>\n",
       "<table border=\"1\" class=\"dataframe\">\n",
       "  <thead>\n",
       "    <tr style=\"text-align: right;\">\n",
       "      <th></th>\n",
       "      <th>name</th>\n",
       "      <th>lat</th>\n",
       "      <th>lon</th>\n",
       "      <th>type</th>\n",
       "      <th>geometry</th>\n",
       "    </tr>\n",
       "  </thead>\n",
       "  <tbody>\n",
       "    <tr>\n",
       "      <th>0</th>\n",
       "      <td>Starbucks</td>\n",
       "      <td>42.342573</td>\n",
       "      <td>-71.074601</td>\n",
       "      <td>{'typepoint': {'type': 'Point', 'coordinates':...</td>\n",
       "      <td>POINT (-71.07460 42.34257)</td>\n",
       "    </tr>\n",
       "    <tr>\n",
       "      <th>1</th>\n",
       "      <td>Starbucks</td>\n",
       "      <td>42.343527</td>\n",
       "      <td>-71.100164</td>\n",
       "      <td>{'typepoint': {'type': 'Point', 'coordinates':...</td>\n",
       "      <td>POINT (-71.10016 42.34353)</td>\n",
       "    </tr>\n",
       "    <tr>\n",
       "      <th>2</th>\n",
       "      <td>Starbucks</td>\n",
       "      <td>42.349304</td>\n",
       "      <td>-71.080887</td>\n",
       "      <td>{'typepoint': {'type': 'Point', 'coordinates':...</td>\n",
       "      <td>POINT (-71.08089 42.34930)</td>\n",
       "    </tr>\n",
       "    <tr>\n",
       "      <th>3</th>\n",
       "      <td>Starbucks</td>\n",
       "      <td>42.348202</td>\n",
       "      <td>-71.087129</td>\n",
       "      <td>{'typepoint': {'type': 'Point', 'coordinates':...</td>\n",
       "      <td>POINT (-71.08713 42.34820)</td>\n",
       "    </tr>\n",
       "    <tr>\n",
       "      <th>4</th>\n",
       "      <td>Starbucks</td>\n",
       "      <td>42.325454</td>\n",
       "      <td>-71.063022</td>\n",
       "      <td>{'typepoint': {'type': 'Point', 'coordinates':...</td>\n",
       "      <td>POINT (-71.06302 42.32545)</td>\n",
       "    </tr>\n",
       "  </tbody>\n",
       "</table>\n",
       "</div>"
      ],
      "text/plain": [
       "        name        lat        lon  \\\n",
       "0  Starbucks  42.342573 -71.074601   \n",
       "1  Starbucks  42.343527 -71.100164   \n",
       "2  Starbucks  42.349304 -71.080887   \n",
       "3  Starbucks  42.348202 -71.087129   \n",
       "4  Starbucks  42.325454 -71.063022   \n",
       "\n",
       "                                                type  \\\n",
       "0  {'typepoint': {'type': 'Point', 'coordinates':...   \n",
       "1  {'typepoint': {'type': 'Point', 'coordinates':...   \n",
       "2  {'typepoint': {'type': 'Point', 'coordinates':...   \n",
       "3  {'typepoint': {'type': 'Point', 'coordinates':...   \n",
       "4  {'typepoint': {'type': 'Point', 'coordinates':...   \n",
       "\n",
       "                     geometry  \n",
       "0  POINT (-71.07460 42.34257)  \n",
       "1  POINT (-71.10016 42.34353)  \n",
       "2  POINT (-71.08089 42.34930)  \n",
       "3  POINT (-71.08713 42.34820)  \n",
       "4  POINT (-71.06302 42.32545)  "
      ]
     },
     "execution_count": 45,
     "metadata": {},
     "output_type": "execute_result"
    }
   ],
   "source": [
    "gdf_1 = gpd.GeoDataFrame(df, geometry=gpd.points_from_xy(df[\"lon\"], df[\"lat\"]))\n",
    "gdf_1.head()"
   ]
  },
  {
   "cell_type": "code",
   "execution_count": null,
   "id": "60a4e2d9",
   "metadata": {},
   "outputs": [],
   "source": [
    "\n"
   ]
  },
  {
   "cell_type": "code",
   "execution_count": 46,
   "id": "560d881d",
   "metadata": {},
   "outputs": [
    {
     "ename": "TypeError",
     "evalue": "Location should be a sized variable, for example a list or a tuple, instead got <cartoframes.viz.layer.Layer object at 0x7fe36b151810> of type <class 'cartoframes.viz.layer.Layer'>.",
     "output_type": "error",
     "traceback": [
      "\u001b[0;31m---------------------------------------------------------------------------\u001b[0m",
      "\u001b[0;31mTypeError\u001b[0m                                 Traceback (most recent call last)",
      "Input \u001b[0;32mIn [46]\u001b[0m, in \u001b[0;36m<cell line: 1>\u001b[0;34m()\u001b[0m\n\u001b[0;32m----> 1\u001b[0m \u001b[43mMap\u001b[49m\u001b[43m(\u001b[49m\u001b[43mLayer\u001b[49m\u001b[43m(\u001b[49m\u001b[43mgdf_1\u001b[49m\u001b[43m,\u001b[49m\u001b[43m \u001b[49m\u001b[38;5;124;43m\"\u001b[39;49m\u001b[38;5;124;43mcolor:purple\u001b[39;49m\u001b[38;5;124;43m\"\u001b[39;49m\u001b[43m,\u001b[49m\u001b[43m \u001b[49m\u001b[43mpopup_hover\u001b[49m\u001b[38;5;241;43m=\u001b[39;49m\u001b[43m[\u001b[49m\u001b[43mpopup_element\u001b[49m\u001b[43m(\u001b[49m\u001b[38;5;124;43m\"\u001b[39;49m\u001b[38;5;124;43mname\u001b[39;49m\u001b[38;5;124;43m\"\u001b[39;49m\u001b[43m,\u001b[49m\u001b[43m \u001b[49m\u001b[38;5;124;43m\"\u001b[39;49m\u001b[38;5;124;43mstarbucks\u001b[39;49m\u001b[38;5;124;43m\"\u001b[39;49m\u001b[43m)\u001b[49m\u001b[43m]\u001b[49m\u001b[43m)\u001b[49m\u001b[43m)\u001b[49m\n",
      "File \u001b[0;32m~/opt/anaconda3/envs/ironhack/lib/python3.10/site-packages/folium/folium.py:253\u001b[0m, in \u001b[0;36mMap.__init__\u001b[0;34m(self, location, width, height, left, top, position, tiles, attr, min_zoom, max_zoom, zoom_start, min_lat, max_lat, min_lon, max_lon, max_bounds, crs, control_scale, prefer_canvas, no_touch, disable_3d, png_enabled, zoom_control, **kwargs)\u001b[0m\n\u001b[1;32m    251\u001b[0m     zoom_start \u001b[38;5;241m=\u001b[39m \u001b[38;5;241m1\u001b[39m\n\u001b[1;32m    252\u001b[0m \u001b[38;5;28;01melse\u001b[39;00m:\n\u001b[0;32m--> 253\u001b[0m     \u001b[38;5;28mself\u001b[39m\u001b[38;5;241m.\u001b[39mlocation \u001b[38;5;241m=\u001b[39m \u001b[43mvalidate_location\u001b[49m\u001b[43m(\u001b[49m\u001b[43mlocation\u001b[49m\u001b[43m)\u001b[49m\n\u001b[1;32m    255\u001b[0m Figure()\u001b[38;5;241m.\u001b[39madd_child(\u001b[38;5;28mself\u001b[39m)\n\u001b[1;32m    257\u001b[0m \u001b[38;5;66;03m# Map Size Parameters.\u001b[39;00m\n",
      "File \u001b[0;32m~/opt/anaconda3/envs/ironhack/lib/python3.10/site-packages/folium/utilities.py:46\u001b[0m, in \u001b[0;36mvalidate_location\u001b[0;34m(location)\u001b[0m\n\u001b[1;32m     44\u001b[0m     location \u001b[38;5;241m=\u001b[39m np\u001b[38;5;241m.\u001b[39msqueeze(location)\u001b[38;5;241m.\u001b[39mtolist()\n\u001b[1;32m     45\u001b[0m \u001b[38;5;28;01mif\u001b[39;00m \u001b[38;5;129;01mnot\u001b[39;00m \u001b[38;5;28mhasattr\u001b[39m(location, \u001b[38;5;124m'\u001b[39m\u001b[38;5;124m__len__\u001b[39m\u001b[38;5;124m'\u001b[39m):\n\u001b[0;32m---> 46\u001b[0m     \u001b[38;5;28;01mraise\u001b[39;00m \u001b[38;5;167;01mTypeError\u001b[39;00m(\u001b[38;5;124m'\u001b[39m\u001b[38;5;124mLocation should be a sized variable, \u001b[39m\u001b[38;5;124m'\u001b[39m\n\u001b[1;32m     47\u001b[0m                     \u001b[38;5;124m'\u001b[39m\u001b[38;5;124mfor example a list or a tuple, instead got \u001b[39m\u001b[38;5;124m'\u001b[39m\n\u001b[1;32m     48\u001b[0m                     \u001b[38;5;124m'\u001b[39m\u001b[38;5;132;01m{!r}\u001b[39;00m\u001b[38;5;124m of type \u001b[39m\u001b[38;5;132;01m{}\u001b[39;00m\u001b[38;5;124m.\u001b[39m\u001b[38;5;124m'\u001b[39m\u001b[38;5;241m.\u001b[39mformat(location, \u001b[38;5;28mtype\u001b[39m(location)))\n\u001b[1;32m     49\u001b[0m \u001b[38;5;28;01mif\u001b[39;00m \u001b[38;5;28mlen\u001b[39m(location) \u001b[38;5;241m!=\u001b[39m \u001b[38;5;241m2\u001b[39m:\n\u001b[1;32m     50\u001b[0m     \u001b[38;5;28;01mraise\u001b[39;00m \u001b[38;5;167;01mValueError\u001b[39;00m(\u001b[38;5;124m'\u001b[39m\u001b[38;5;124mExpected two (lat, lon) values for location, \u001b[39m\u001b[38;5;124m'\u001b[39m\n\u001b[1;32m     51\u001b[0m                      \u001b[38;5;124m'\u001b[39m\u001b[38;5;124minstead got: \u001b[39m\u001b[38;5;132;01m{!r}\u001b[39;00m\u001b[38;5;124m.\u001b[39m\u001b[38;5;124m'\u001b[39m\u001b[38;5;241m.\u001b[39mformat(location))\n",
      "\u001b[0;31mTypeError\u001b[0m: Location should be a sized variable, for example a list or a tuple, instead got <cartoframes.viz.layer.Layer object at 0x7fe36b151810> of type <class 'cartoframes.viz.layer.Layer'>."
     ]
    }
   ],
   "source": [
    "Map(Layer(gdf_1, \"color:purple\", popup_hover=[popup_element(\"name\", \"starbucks\")]))"
   ]
  },
  {
   "cell_type": "code",
   "execution_count": 50,
   "id": "422710d0",
   "metadata": {},
   "outputs": [
    {
     "data": {
      "text/html": [
       "<div style=\"width:100%;\"><div style=\"position:relative;width:100%;height:0;padding-bottom:60%;\"><span style=\"color:#565656\">Make this Notebook Trusted to load map: File -> Trust Notebook</span><iframe srcdoc=\"&lt;!DOCTYPE html&gt;\n",
       "&lt;head&gt;    \n",
       "    &lt;meta http-equiv=&quot;content-type&quot; content=&quot;text/html; charset=UTF-8&quot; /&gt;\n",
       "    \n",
       "        &lt;script&gt;\n",
       "            L_NO_TOUCH = false;\n",
       "            L_DISABLE_3D = false;\n",
       "        &lt;/script&gt;\n",
       "    \n",
       "    &lt;style&gt;html, body {width: 100%;height: 100%;margin: 0;padding: 0;}&lt;/style&gt;\n",
       "    &lt;style&gt;#map {position:absolute;top:0;bottom:0;right:0;left:0;}&lt;/style&gt;\n",
       "    &lt;script src=&quot;https://cdn.jsdelivr.net/npm/leaflet@1.6.0/dist/leaflet.js&quot;&gt;&lt;/script&gt;\n",
       "    &lt;script src=&quot;https://code.jquery.com/jquery-1.12.4.min.js&quot;&gt;&lt;/script&gt;\n",
       "    &lt;script src=&quot;https://maxcdn.bootstrapcdn.com/bootstrap/3.2.0/js/bootstrap.min.js&quot;&gt;&lt;/script&gt;\n",
       "    &lt;script src=&quot;https://cdnjs.cloudflare.com/ajax/libs/Leaflet.awesome-markers/2.0.2/leaflet.awesome-markers.js&quot;&gt;&lt;/script&gt;\n",
       "    &lt;link rel=&quot;stylesheet&quot; href=&quot;https://cdn.jsdelivr.net/npm/leaflet@1.6.0/dist/leaflet.css&quot;/&gt;\n",
       "    &lt;link rel=&quot;stylesheet&quot; href=&quot;https://maxcdn.bootstrapcdn.com/bootstrap/3.2.0/css/bootstrap.min.css&quot;/&gt;\n",
       "    &lt;link rel=&quot;stylesheet&quot; href=&quot;https://maxcdn.bootstrapcdn.com/bootstrap/3.2.0/css/bootstrap-theme.min.css&quot;/&gt;\n",
       "    &lt;link rel=&quot;stylesheet&quot; href=&quot;https://maxcdn.bootstrapcdn.com/font-awesome/4.6.3/css/font-awesome.min.css&quot;/&gt;\n",
       "    &lt;link rel=&quot;stylesheet&quot; href=&quot;https://cdnjs.cloudflare.com/ajax/libs/Leaflet.awesome-markers/2.0.2/leaflet.awesome-markers.css&quot;/&gt;\n",
       "    &lt;link rel=&quot;stylesheet&quot; href=&quot;https://cdn.jsdelivr.net/gh/python-visualization/folium/folium/templates/leaflet.awesome.rotate.min.css&quot;/&gt;\n",
       "    \n",
       "            &lt;meta name=&quot;viewport&quot; content=&quot;width=device-width,\n",
       "                initial-scale=1.0, maximum-scale=1.0, user-scalable=no&quot; /&gt;\n",
       "            &lt;style&gt;\n",
       "                #map_88fa93c92fd0f2120febb83bcaf36819 {\n",
       "                    position: relative;\n",
       "                    width: 100.0%;\n",
       "                    height: 100.0%;\n",
       "                    left: 0.0%;\n",
       "                    top: 0.0%;\n",
       "                }\n",
       "            &lt;/style&gt;\n",
       "        \n",
       "&lt;/head&gt;\n",
       "&lt;body&gt;    \n",
       "    \n",
       "            &lt;div class=&quot;folium-map&quot; id=&quot;map_88fa93c92fd0f2120febb83bcaf36819&quot; &gt;&lt;/div&gt;\n",
       "        \n",
       "&lt;/body&gt;\n",
       "&lt;script&gt;    \n",
       "    \n",
       "            var map_88fa93c92fd0f2120febb83bcaf36819 = L.map(\n",
       "                &quot;map_88fa93c92fd0f2120febb83bcaf36819&quot;,\n",
       "                {\n",
       "                    center: [42.33106, -71.0902],\n",
       "                    crs: L.CRS.EPSG3857,\n",
       "                    zoom: 13,\n",
       "                    zoomControl: true,\n",
       "                    preferCanvas: false,\n",
       "                }\n",
       "            );\n",
       "\n",
       "            \n",
       "\n",
       "        \n",
       "    \n",
       "            var tile_layer_0a05d22eb3f77a05bef540515912d837 = L.tileLayer(\n",
       "                &quot;https://{s}.tile.openstreetmap.org/{z}/{x}/{y}.png&quot;,\n",
       "                {&quot;attribution&quot;: &quot;Data by \\u0026copy; \\u003ca href=\\&quot;http://openstreetmap.org\\&quot;\\u003eOpenStreetMap\\u003c/a\\u003e, under \\u003ca href=\\&quot;http://www.openstreetmap.org/copyright\\&quot;\\u003eODbL\\u003c/a\\u003e.&quot;, &quot;detectRetina&quot;: false, &quot;maxNativeZoom&quot;: 18, &quot;maxZoom&quot;: 18, &quot;minZoom&quot;: 0, &quot;noWrap&quot;: false, &quot;opacity&quot;: 1, &quot;subdomains&quot;: &quot;abc&quot;, &quot;tms&quot;: false}\n",
       "            ).addTo(map_88fa93c92fd0f2120febb83bcaf36819);\n",
       "        \n",
       "&lt;/script&gt;\" style=\"position:absolute;width:100%;height:100%;left:0;top:0;border:none !important;\" allowfullscreen webkitallowfullscreen mozallowfullscreen></iframe></div></div>"
      ],
      "text/plain": [
       "<folium.folium.Map at 0x7fe36bfcfc10>"
      ]
     },
     "execution_count": 50,
     "metadata": {},
     "output_type": "execute_result"
    }
   ],
   "source": [
    "boston_map = Map(location = [42.33106, -71.09020], zoom_start = 13)\n",
    "boston_map"
   ]
  }
 ],
 "metadata": {
  "kernelspec": {
   "display_name": "Python 3 (ipykernel)",
   "language": "python",
   "name": "python3"
  },
  "language_info": {
   "codemirror_mode": {
    "name": "ipython",
    "version": 3
   },
   "file_extension": ".py",
   "mimetype": "text/x-python",
   "name": "python",
   "nbconvert_exporter": "python",
   "pygments_lexer": "ipython3",
   "version": "3.10.4"
  }
 },
 "nbformat": 4,
 "nbformat_minor": 5
}
