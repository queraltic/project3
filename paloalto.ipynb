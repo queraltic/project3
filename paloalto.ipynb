{
 "cells": [
  {
   "cell_type": "code",
   "execution_count": 1,
   "id": "b6ab0b46",
   "metadata": {},
   "outputs": [],
   "source": [
    "import os\n",
    "import requests\n",
    "import json\n",
    "from dotenv import load_dotenv\n",
    "import geopandas as gpd\n",
    "from cartoframes.viz import Map, Layer, popup_element\n",
    "import folium\n",
    "from folium import Choropleth, Circle, Marker, Icon, Map\n",
    "from folium.plugins import HeatMap, MarkerCluster\n",
    "import pandas as pd\n",
    "\n"
   ]
  },
  {
   "cell_type": "code",
   "execution_count": null,
   "id": "4aa8bf19",
   "metadata": {},
   "outputs": [],
   "source": [
    "\n"
   ]
  },
  {
   "cell_type": "code",
   "execution_count": 2,
   "id": "d72a50fe",
   "metadata": {},
   "outputs": [],
   "source": [
    "#Location"
   ]
  },
  {
   "cell_type": "code",
   "execution_count": 3,
   "id": "efb12206",
   "metadata": {},
   "outputs": [],
   "source": [
    "where= \"Palo Alto,USA\""
   ]
  },
  {
   "cell_type": "code",
   "execution_count": 4,
   "id": "19867567",
   "metadata": {},
   "outputs": [],
   "source": [
    "# Expected coordinates"
   ]
  },
  {
   "cell_type": "code",
   "execution_count": 5,
   "id": "1c2982ad",
   "metadata": {},
   "outputs": [],
   "source": [
    "paloalto_long = 200,0.90,21.91768\n",
    "paloalto_lat = -101.96363"
   ]
  },
  {
   "cell_type": "code",
   "execution_count": 6,
   "id": "04dde107",
   "metadata": {
    "scrolled": true
   },
   "outputs": [
    {
     "data": {
      "text/plain": [
       "{'standard': {'addresst': {},\n",
       "  'statename': {},\n",
       "  'city': 'Palo Alto',\n",
       "  'prov': 'US',\n",
       "  'countryname': 'United States of America',\n",
       "  'postal': {},\n",
       "  'confidence': '0.90'},\n",
       " 'longt': '-122.13441',\n",
       " 'alt': {},\n",
       " 'elevation': {},\n",
       " 'latt': '37.43128'}"
      ]
     },
     "execution_count": 6,
     "metadata": {},
     "output_type": "execute_result"
    }
   ],
   "source": [
    "url_geocode = f\"https://geocode.xyz/{where}?json=1\"\n",
    "res = requests.get(url_geocode).json()\n",
    "res"
   ]
  },
  {
   "cell_type": "code",
   "execution_count": 7,
   "id": "849a35d2",
   "metadata": {},
   "outputs": [],
   "source": [
    "paloalto_ = {'type': 'Point', 'coordinates':['-122.13441','37.43128'] }"
   ]
  },
  {
   "cell_type": "code",
   "execution_count": 8,
   "id": "6913792e",
   "metadata": {},
   "outputs": [
    {
     "name": "stdout",
     "output_type": "stream",
     "text": [
      "-122.13441 37.43128\n"
     ]
    }
   ],
   "source": [
    "paloalto_long, paloalto_lat = res[\"longt\"], res[\"latt\"]\n",
    "print(paloalto_long, paloalto_lat)\n"
   ]
  },
  {
   "cell_type": "code",
   "execution_count": 9,
   "id": "346a8894",
   "metadata": {},
   "outputs": [],
   "source": [
    "def get_coordinates (place):\n",
    "    url_geocode = f\"https://geocode.xyz/{where}?json=1\"\n",
    "\n",
    "    try:\n",
    "        res = requests.get(url_geocode).json()\n",
    "        return res[\"longt\"], res[\"latt\"]\n",
    "    except:\n",
    "        print(f\"Sorry, no matches found for {place}\")\n",
    "        get_coordinates (place)"
   ]
  },
  {
   "cell_type": "code",
   "execution_count": 10,
   "id": "5ae4d54a",
   "metadata": {},
   "outputs": [
    {
     "data": {
      "text/plain": [
       "('-122.13441', '37.43128')"
      ]
     },
     "execution_count": 10,
     "metadata": {},
     "output_type": "execute_result"
    }
   ],
   "source": [
    "paloalto = get_coordinates (\"Palo Alto,USA\")\n",
    "paloalto"
   ]
  },
  {
   "cell_type": "code",
   "execution_count": 11,
   "id": "f0dff968",
   "metadata": {},
   "outputs": [],
   "source": [
    "paloalto = (\"-122.13441,37.43128\")"
   ]
  },
  {
   "cell_type": "code",
   "execution_count": 12,
   "id": "c027bc62",
   "metadata": {},
   "outputs": [],
   "source": [
    "#TOKEN"
   ]
  },
  {
   "cell_type": "code",
   "execution_count": 13,
   "id": "0a3954e4",
   "metadata": {},
   "outputs": [],
   "source": [
    "\n",
    "load_dotenv()\n",
    "client_id = os.getenv(\"CLIENT_ID\")\n",
    "client_secret = os.getenv(\"CLIENT_SECRET\")\n"
   ]
  },
  {
   "cell_type": "code",
   "execution_count": 14,
   "id": "843f08be",
   "metadata": {},
   "outputs": [
    {
     "data": {
      "text/plain": [
       "True"
      ]
     },
     "execution_count": 14,
     "metadata": {},
     "output_type": "execute_result"
    }
   ],
   "source": [
    "# Connect w/ Foursquare API\n",
    "load_dotenv()\n"
   ]
  },
  {
   "cell_type": "code",
   "execution_count": 15,
   "id": "e3d416f3",
   "metadata": {},
   "outputs": [],
   "source": [
    "token_fsq = os.getenv(\"token\")"
   ]
  },
  {
   "cell_type": "code",
   "execution_count": 16,
   "id": "cb9dd01b",
   "metadata": {},
   "outputs": [],
   "source": [
    "query = \"starbucks\""
   ]
  },
  {
   "cell_type": "code",
   "execution_count": 17,
   "id": "6edc0668",
   "metadata": {},
   "outputs": [],
   "source": [
    "# Copy and paste from example from website\n",
    "url = f\"https://api.foursquare.com/v3/places/search?query={query}&limit=1\"\n",
    "\n",
    "headers = {\n",
    "    \"accept\": \"application/json\",\n",
    "    \"Authorization\": token_fsq\n",
    "}\n",
    "\n",
    "response = requests.get(url, headers=headers).json()"
   ]
  },
  {
   "cell_type": "code",
   "execution_count": 18,
   "id": "6ba506eb",
   "metadata": {},
   "outputs": [
    {
     "data": {
      "text/plain": [
       "{'results': [{'fsq_id': '4b7e7cdaf964a5202cef2fe3',\n",
       "   'categories': [{'id': 13035,\n",
       "     'name': 'Coffee Shop',\n",
       "     'icon': {'prefix': 'https://ss3.4sqi.net/img/categories_v2/food/coffeeshop_',\n",
       "      'suffix': '.png'}}],\n",
       "   'chains': [{'id': 'ab4c54c0-d68a-012e-5619-003048cad9da',\n",
       "     'name': 'Starbucks'}],\n",
       "   'distance': 510,\n",
       "   'geocodes': {'main': {'latitude': 41.385204, 'longitude': 2.163273},\n",
       "    'roof': {'latitude': 41.385204, 'longitude': 2.163273}},\n",
       "   'link': '/v3/places/4b7e7cdaf964a5202cef2fe3',\n",
       "   'location': {'address': 'Plaça Universitat, 2',\n",
       "    'admin_region': 'Cataluña',\n",
       "    'country': 'ES',\n",
       "    'cross_street': 'C. Aribau',\n",
       "    'formatted_address': 'Plaça Universitat, 2 (C. Aribau), 08007 Barcelona Catalonia',\n",
       "    'locality': 'Barcelona',\n",
       "    'neighborhood': ['Sant Antoni'],\n",
       "    'postcode': '08007',\n",
       "    'region': 'Catalonia'},\n",
       "   'name': 'Starbucks',\n",
       "   'related_places': {},\n",
       "   'timezone': 'Europe/Madrid'}],\n",
       " 'context': {'geo_bounds': {'circle': {'center': {'latitude': 41.3887939453125,\n",
       "     'longitude': 2.15899658203125},\n",
       "    'radius': 22000}}}}"
      ]
     },
     "execution_count": 18,
     "metadata": {},
     "output_type": "execute_result"
    }
   ],
   "source": [
    "response"
   ]
  },
  {
   "cell_type": "code",
   "execution_count": 19,
   "id": "6ddf227c",
   "metadata": {},
   "outputs": [
    {
     "data": {
      "text/plain": [
       "dict_keys(['results', 'context'])"
      ]
     },
     "execution_count": 19,
     "metadata": {},
     "output_type": "execute_result"
    }
   ],
   "source": [
    "response.keys()"
   ]
  },
  {
   "cell_type": "code",
   "execution_count": null,
   "id": "bb3abb48",
   "metadata": {},
   "outputs": [],
   "source": []
  },
  {
   "cell_type": "code",
   "execution_count": 20,
   "id": "a81762a7",
   "metadata": {},
   "outputs": [],
   "source": [
    "query = \"starbucks\"\n",
    "url = f\"https://api.foursquare.com/v3/places/search?query={query}&ll=40.416775%2C-3.703790\"\n",
    "\n",
    "headers = {\n",
    "    \"accept\": \"application/json\",\n",
    "    \"Authorization\": token_fsq,\n",
    "    \"limit\":\"1\"\n",
    "}\n",
    "\n",
    "response_2 = requests.get(url, headers=headers).json()\n"
   ]
  },
  {
   "cell_type": "code",
   "execution_count": 21,
   "id": "ee5a98a3",
   "metadata": {},
   "outputs": [
    {
     "data": {
      "text/plain": [
       "'Comunidad de Madrid'"
      ]
     },
     "execution_count": 21,
     "metadata": {},
     "output_type": "execute_result"
    }
   ],
   "source": [
    "response_2[\"results\"][0][\"location\"][\"admin_region\"] "
   ]
  },
  {
   "cell_type": "code",
   "execution_count": 22,
   "id": "c2db65c3",
   "metadata": {},
   "outputs": [],
   "source": [
    "def get_results_from_foursquare (query, location, limit=1):\n",
    "    \n",
    "    # Doing the call for foursquare     \n",
    "    ll = f\"{location[1]}%2C{location[0]}\"\n",
    "    url = f\"https://api.foursquare.com/v3/places/search?query={query}&ll={ll}&limit={str(limit)}\"\n",
    "\n",
    "    headers = {\n",
    "        \"accept\": \"application/json\",\n",
    "        \"Authorization\": token_fsq,\n",
    "    }\n",
    "    \n",
    "    response = requests.get(url, headers=headers).json()\n",
    "    \n",
    "    return response"
   ]
  },
  {
   "cell_type": "code",
   "execution_count": 23,
   "id": "906df2ff",
   "metadata": {},
   "outputs": [
    {
     "data": {
      "text/plain": [
       "{'results': [{'fsq_id': '4b7e7cdaf964a5202cef2fe3',\n",
       "   'categories': [{'id': 13035,\n",
       "     'name': 'Coffee Shop',\n",
       "     'icon': {'prefix': 'https://ss3.4sqi.net/img/categories_v2/food/coffeeshop_',\n",
       "      'suffix': '.png'}}],\n",
       "   'chains': [{'id': 'ab4c54c0-d68a-012e-5619-003048cad9da',\n",
       "     'name': 'Starbucks'}],\n",
       "   'distance': 510,\n",
       "   'geocodes': {'main': {'latitude': 41.385204, 'longitude': 2.163273},\n",
       "    'roof': {'latitude': 41.385204, 'longitude': 2.163273}},\n",
       "   'link': '/v3/places/4b7e7cdaf964a5202cef2fe3',\n",
       "   'location': {'address': 'Plaça Universitat, 2',\n",
       "    'admin_region': 'Cataluña',\n",
       "    'country': 'ES',\n",
       "    'cross_street': 'C. Aribau',\n",
       "    'formatted_address': 'Plaça Universitat, 2 (C. Aribau), 08007 Barcelona Catalonia',\n",
       "    'locality': 'Barcelona',\n",
       "    'neighborhood': ['Sant Antoni'],\n",
       "    'postcode': '08007',\n",
       "    'region': 'Catalonia'},\n",
       "   'name': 'Starbucks',\n",
       "   'related_places': {},\n",
       "   'timezone': 'Europe/Madrid'}],\n",
       " 'context': {'geo_bounds': {'circle': {'center': {'latitude': 41.3887939453125,\n",
       "     'longitude': 2.15899658203125},\n",
       "    'radius': 22000}}}}"
      ]
     },
     "execution_count": 23,
     "metadata": {},
     "output_type": "execute_result"
    }
   ],
   "source": [
    "response"
   ]
  },
  {
   "cell_type": "code",
   "execution_count": 29,
   "id": "b7c61c3f",
   "metadata": {},
   "outputs": [
    {
     "ename": "KeyError",
     "evalue": "1",
     "output_type": "error",
     "traceback": [
      "\u001b[0;31m---------------------------------------------------------------------------\u001b[0m",
      "\u001b[0;31mKeyError\u001b[0m                                  Traceback (most recent call last)",
      "Input \u001b[0;32mIn [29]\u001b[0m, in \u001b[0;36m<cell line: 2>\u001b[0;34m()\u001b[0m\n\u001b[1;32m      1\u001b[0m \u001b[38;5;66;03m# Calling the function\u001b[39;00m\n\u001b[0;32m----> 2\u001b[0m \u001b[43mget_results_from_foursquare\u001b[49m\u001b[43m \u001b[49m\u001b[43m(\u001b[49m\u001b[38;5;124;43m\"\u001b[39;49m\u001b[38;5;124;43mstarbucks\u001b[39;49m\u001b[38;5;124;43m\"\u001b[39;49m\u001b[43m,\u001b[49m\u001b[43m \u001b[49m\u001b[43mpaloalto_\u001b[49m\u001b[43m)\u001b[49m\n",
      "Input \u001b[0;32mIn [26]\u001b[0m, in \u001b[0;36mget_results_from_foursquare\u001b[0;34m(query, location, limit)\u001b[0m\n\u001b[1;32m      1\u001b[0m \u001b[38;5;28;01mdef\u001b[39;00m \u001b[38;5;21mget_results_from_foursquare\u001b[39m (query, location, limit\u001b[38;5;241m=\u001b[39m\u001b[38;5;241m1\u001b[39m):\n\u001b[1;32m      2\u001b[0m     \n\u001b[1;32m      3\u001b[0m     \u001b[38;5;66;03m# Doing the call for foursquare     \u001b[39;00m\n\u001b[0;32m----> 4\u001b[0m     ll \u001b[38;5;241m=\u001b[39m \u001b[38;5;124mf\u001b[39m\u001b[38;5;124m\"\u001b[39m\u001b[38;5;132;01m{\u001b[39;00mlocation[\u001b[38;5;241m1\u001b[39m]\u001b[38;5;132;01m}\u001b[39;00m\u001b[38;5;124m%2C\u001b[39m\u001b[38;5;132;01m{\u001b[39;00mlocation[\u001b[38;5;241m0\u001b[39m]\u001b[38;5;132;01m}\u001b[39;00m\u001b[38;5;124m\"\u001b[39m\n\u001b[1;32m      5\u001b[0m     url \u001b[38;5;241m=\u001b[39m \u001b[38;5;124mf\u001b[39m\u001b[38;5;124m\"\u001b[39m\u001b[38;5;124mhttps://api.foursquare.com/v3/places/search?query=\u001b[39m\u001b[38;5;132;01m{\u001b[39;00mquery\u001b[38;5;132;01m}\u001b[39;00m\u001b[38;5;124m&ll=\u001b[39m\u001b[38;5;132;01m{\u001b[39;00mll\u001b[38;5;132;01m}\u001b[39;00m\u001b[38;5;124m&limit=\u001b[39m\u001b[38;5;132;01m{\u001b[39;00m\u001b[38;5;28mstr\u001b[39m(limit)\u001b[38;5;132;01m}\u001b[39;00m\u001b[38;5;124m\"\u001b[39m\n\u001b[1;32m      7\u001b[0m     headers \u001b[38;5;241m=\u001b[39m {\n\u001b[1;32m      8\u001b[0m         \u001b[38;5;124m\"\u001b[39m\u001b[38;5;124maccept\u001b[39m\u001b[38;5;124m\"\u001b[39m: \u001b[38;5;124m\"\u001b[39m\u001b[38;5;124mapplication/json\u001b[39m\u001b[38;5;124m\"\u001b[39m,\n\u001b[1;32m      9\u001b[0m         \u001b[38;5;124m\"\u001b[39m\u001b[38;5;124mAuthorization\u001b[39m\u001b[38;5;124m\"\u001b[39m: token_fsq,\n\u001b[1;32m     10\u001b[0m     }\n",
      "\u001b[0;31mKeyError\u001b[0m: 1"
     ]
    }
   ],
   "source": [
    "# Calling the function\n",
    "get_results_from_foursquare (\"starbucks\", paloalto_)"
   ]
  },
  {
   "cell_type": "code",
   "execution_count": 28,
   "id": "d25df713",
   "metadata": {},
   "outputs": [
    {
     "ename": "KeyError",
     "evalue": "1",
     "output_type": "error",
     "traceback": [
      "\u001b[0;31m---------------------------------------------------------------------------\u001b[0m",
      "\u001b[0;31mKeyError\u001b[0m                                  Traceback (most recent call last)",
      "Input \u001b[0;32mIn [28]\u001b[0m, in \u001b[0;36m<cell line: 1>\u001b[0;34m()\u001b[0m\n\u001b[0;32m----> 1\u001b[0m \u001b[43mget_results_from_foursquare\u001b[49m\u001b[43m \u001b[49m\u001b[43m(\u001b[49m\u001b[38;5;124;43m\"\u001b[39;49m\u001b[38;5;124;43mparks\u001b[39;49m\u001b[38;5;124;43m\"\u001b[39;49m\u001b[43m,\u001b[49m\u001b[43m \u001b[49m\u001b[43mpaloalto_\u001b[49m\u001b[43m)\u001b[49m\n",
      "Input \u001b[0;32mIn [26]\u001b[0m, in \u001b[0;36mget_results_from_foursquare\u001b[0;34m(query, location, limit)\u001b[0m\n\u001b[1;32m      1\u001b[0m \u001b[38;5;28;01mdef\u001b[39;00m \u001b[38;5;21mget_results_from_foursquare\u001b[39m (query, location, limit\u001b[38;5;241m=\u001b[39m\u001b[38;5;241m1\u001b[39m):\n\u001b[1;32m      2\u001b[0m     \n\u001b[1;32m      3\u001b[0m     \u001b[38;5;66;03m# Doing the call for foursquare     \u001b[39;00m\n\u001b[0;32m----> 4\u001b[0m     ll \u001b[38;5;241m=\u001b[39m \u001b[38;5;124mf\u001b[39m\u001b[38;5;124m\"\u001b[39m\u001b[38;5;132;01m{\u001b[39;00mlocation[\u001b[38;5;241m1\u001b[39m]\u001b[38;5;132;01m}\u001b[39;00m\u001b[38;5;124m%2C\u001b[39m\u001b[38;5;132;01m{\u001b[39;00mlocation[\u001b[38;5;241m0\u001b[39m]\u001b[38;5;132;01m}\u001b[39;00m\u001b[38;5;124m\"\u001b[39m\n\u001b[1;32m      5\u001b[0m     url \u001b[38;5;241m=\u001b[39m \u001b[38;5;124mf\u001b[39m\u001b[38;5;124m\"\u001b[39m\u001b[38;5;124mhttps://api.foursquare.com/v3/places/search?query=\u001b[39m\u001b[38;5;132;01m{\u001b[39;00mquery\u001b[38;5;132;01m}\u001b[39;00m\u001b[38;5;124m&ll=\u001b[39m\u001b[38;5;132;01m{\u001b[39;00mll\u001b[38;5;132;01m}\u001b[39;00m\u001b[38;5;124m&limit=\u001b[39m\u001b[38;5;132;01m{\u001b[39;00m\u001b[38;5;28mstr\u001b[39m(limit)\u001b[38;5;132;01m}\u001b[39;00m\u001b[38;5;124m\"\u001b[39m\n\u001b[1;32m      7\u001b[0m     headers \u001b[38;5;241m=\u001b[39m {\n\u001b[1;32m      8\u001b[0m         \u001b[38;5;124m\"\u001b[39m\u001b[38;5;124maccept\u001b[39m\u001b[38;5;124m\"\u001b[39m: \u001b[38;5;124m\"\u001b[39m\u001b[38;5;124mapplication/json\u001b[39m\u001b[38;5;124m\"\u001b[39m,\n\u001b[1;32m      9\u001b[0m         \u001b[38;5;124m\"\u001b[39m\u001b[38;5;124mAuthorization\u001b[39m\u001b[38;5;124m\"\u001b[39m: token_fsq,\n\u001b[1;32m     10\u001b[0m     }\n",
      "\u001b[0;31mKeyError\u001b[0m: 1"
     ]
    }
   ],
   "source": [
    "get_results_from_foursquare (\"parks\", paloalto_)"
   ]
  },
  {
   "cell_type": "code",
   "execution_count": 31,
   "id": "980d95ff",
   "metadata": {},
   "outputs": [
    {
     "data": {
      "text/html": [
       "<div style=\"width:100%;\"><div style=\"position:relative;width:100%;height:0;padding-bottom:60%;\"><span style=\"color:#565656\">Make this Notebook Trusted to load map: File -> Trust Notebook</span><iframe srcdoc=\"&lt;!DOCTYPE html&gt;\n",
       "&lt;head&gt;    \n",
       "    &lt;meta http-equiv=&quot;content-type&quot; content=&quot;text/html; charset=UTF-8&quot; /&gt;\n",
       "    \n",
       "        &lt;script&gt;\n",
       "            L_NO_TOUCH = false;\n",
       "            L_DISABLE_3D = false;\n",
       "        &lt;/script&gt;\n",
       "    \n",
       "    &lt;style&gt;html, body {width: 100%;height: 100%;margin: 0;padding: 0;}&lt;/style&gt;\n",
       "    &lt;style&gt;#map {position:absolute;top:0;bottom:0;right:0;left:0;}&lt;/style&gt;\n",
       "    &lt;script src=&quot;https://cdn.jsdelivr.net/npm/leaflet@1.6.0/dist/leaflet.js&quot;&gt;&lt;/script&gt;\n",
       "    &lt;script src=&quot;https://code.jquery.com/jquery-1.12.4.min.js&quot;&gt;&lt;/script&gt;\n",
       "    &lt;script src=&quot;https://maxcdn.bootstrapcdn.com/bootstrap/3.2.0/js/bootstrap.min.js&quot;&gt;&lt;/script&gt;\n",
       "    &lt;script src=&quot;https://cdnjs.cloudflare.com/ajax/libs/Leaflet.awesome-markers/2.0.2/leaflet.awesome-markers.js&quot;&gt;&lt;/script&gt;\n",
       "    &lt;link rel=&quot;stylesheet&quot; href=&quot;https://cdn.jsdelivr.net/npm/leaflet@1.6.0/dist/leaflet.css&quot;/&gt;\n",
       "    &lt;link rel=&quot;stylesheet&quot; href=&quot;https://maxcdn.bootstrapcdn.com/bootstrap/3.2.0/css/bootstrap.min.css&quot;/&gt;\n",
       "    &lt;link rel=&quot;stylesheet&quot; href=&quot;https://maxcdn.bootstrapcdn.com/bootstrap/3.2.0/css/bootstrap-theme.min.css&quot;/&gt;\n",
       "    &lt;link rel=&quot;stylesheet&quot; href=&quot;https://maxcdn.bootstrapcdn.com/font-awesome/4.6.3/css/font-awesome.min.css&quot;/&gt;\n",
       "    &lt;link rel=&quot;stylesheet&quot; href=&quot;https://cdnjs.cloudflare.com/ajax/libs/Leaflet.awesome-markers/2.0.2/leaflet.awesome-markers.css&quot;/&gt;\n",
       "    &lt;link rel=&quot;stylesheet&quot; href=&quot;https://cdn.jsdelivr.net/gh/python-visualization/folium/folium/templates/leaflet.awesome.rotate.min.css&quot;/&gt;\n",
       "    \n",
       "            &lt;meta name=&quot;viewport&quot; content=&quot;width=device-width,\n",
       "                initial-scale=1.0, maximum-scale=1.0, user-scalable=no&quot; /&gt;\n",
       "            &lt;style&gt;\n",
       "                #map_72dc0d1b8b1e04714b734a763c5731b3 {\n",
       "                    position: relative;\n",
       "                    width: 100.0%;\n",
       "                    height: 100.0%;\n",
       "                    left: 0.0%;\n",
       "                    top: 0.0%;\n",
       "                }\n",
       "            &lt;/style&gt;\n",
       "        \n",
       "&lt;/head&gt;\n",
       "&lt;body&gt;    \n",
       "    \n",
       "            &lt;div class=&quot;folium-map&quot; id=&quot;map_72dc0d1b8b1e04714b734a763c5731b3&quot; &gt;&lt;/div&gt;\n",
       "        \n",
       "&lt;/body&gt;\n",
       "&lt;script&gt;    \n",
       "    \n",
       "            var map_72dc0d1b8b1e04714b734a763c5731b3 = L.map(\n",
       "                &quot;map_72dc0d1b8b1e04714b734a763c5731b3&quot;,\n",
       "                {\n",
       "                    center: [37.43128, -122.13441],\n",
       "                    crs: L.CRS.EPSG3857,\n",
       "                    zoom: 13,\n",
       "                    zoomControl: true,\n",
       "                    preferCanvas: false,\n",
       "                }\n",
       "            );\n",
       "\n",
       "            \n",
       "\n",
       "        \n",
       "    \n",
       "            var tile_layer_4192817bfcbc1786599bce3ba600454e = L.tileLayer(\n",
       "                &quot;https://{s}.tile.openstreetmap.org/{z}/{x}/{y}.png&quot;,\n",
       "                {&quot;attribution&quot;: &quot;Data by \\u0026copy; \\u003ca href=\\&quot;http://openstreetmap.org\\&quot;\\u003eOpenStreetMap\\u003c/a\\u003e, under \\u003ca href=\\&quot;http://www.openstreetmap.org/copyright\\&quot;\\u003eODbL\\u003c/a\\u003e.&quot;, &quot;detectRetina&quot;: false, &quot;maxNativeZoom&quot;: 18, &quot;maxZoom&quot;: 18, &quot;minZoom&quot;: 0, &quot;noWrap&quot;: false, &quot;opacity&quot;: 1, &quot;subdomains&quot;: &quot;abc&quot;, &quot;tms&quot;: false}\n",
       "            ).addTo(map_72dc0d1b8b1e04714b734a763c5731b3);\n",
       "        \n",
       "&lt;/script&gt;\" style=\"position:absolute;width:100%;height:100%;left:0;top:0;border:none !important;\" allowfullscreen webkitallowfullscreen mozallowfullscreen></iframe></div></div>"
      ],
      "text/plain": [
       "<folium.folium.Map at 0x7f890590e0e0>"
      ]
     },
     "execution_count": 31,
     "metadata": {},
     "output_type": "execute_result"
    }
   ],
   "source": [
    "paloalto_map = Map(location = [37.43128 ,-122.13441], zoom_start = 13)\n",
    "paloalto_map"
   ]
  }
 ],
 "metadata": {
  "kernelspec": {
   "display_name": "Python 3 (ipykernel)",
   "language": "python",
   "name": "python3"
  },
  "language_info": {
   "codemirror_mode": {
    "name": "ipython",
    "version": 3
   },
   "file_extension": ".py",
   "mimetype": "text/x-python",
   "name": "python",
   "nbconvert_exporter": "python",
   "pygments_lexer": "ipython3",
   "version": "3.10.4"
  }
 },
 "nbformat": 4,
 "nbformat_minor": 5
}
